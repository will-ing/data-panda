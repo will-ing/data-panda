{
 "cells": [
  {
   "cell_type": "markdown",
   "metadata": {},
   "source": [
    "# Data Analysis with Pandas\n",
    "\n",
    "## Video game sales\n",
    "\n",
    "Author: Will Koger\n",
    "Created: 7/8/2020"
   ]
  },
  {
   "cell_type": "code",
   "execution_count": 1,
   "metadata": {},
   "outputs": [],
   "source": [
    "import pandas as pd\n",
    "import numpy as np\n",
    "import matplotlib as plt\n"
   ]
  },
  {
   "cell_type": "markdown",
   "metadata": {},
   "source": [
    "1. What are the top 20 highest grossing games?\n",
    "1. For North American video game sales, what’s the median?\n",
    "    - Provide a secondary output showing ten games surrounding the median sales output\n",
    "    - assume that games with same median value are sorted in descending order\n",
    "1. For the top-selling game of all time, how many standard deviations above/below the mean are its sales for North America?\n",
    "1. The Nintendo Wii seems to have outdone itself with games. How does its average number of sales compare with all of the other platforms?\n",
    "1. Come up with 3 more questions that can be answered with this data set."
   ]
  },
  {
   "cell_type": "code",
   "execution_count": 2,
   "metadata": {},
   "outputs": [
    {
     "output_type": "execute_result",
     "data": {
      "text/plain": "        Rank                                              Name Platform  \\\n0          1                                        Wii Sports      Wii   \n1          2                                 Super Mario Bros.      NES   \n2          3                                    Mario Kart Wii      Wii   \n3          4                                 Wii Sports Resort      Wii   \n4          5                          Pokemon Red/Pokemon Blue       GB   \n...      ...                                               ...      ...   \n16593  16596                Woody Woodpecker in Crazy Castle 5      GBA   \n16594  16597                     Men in Black II: Alien Escape       GC   \n16595  16598  SCORE International Baja 1000: The Official Game      PS2   \n16596  16599                                        Know How 2       DS   \n16597  16600                                  Spirits & Spells      GBA   \n\n         Year         Genre   Publisher  NA_Sales  EU_Sales  JP_Sales  \\\n0      2006.0        Sports    Nintendo     41.49     29.02      3.77   \n1      1985.0      Platform    Nintendo     29.08      3.58      6.81   \n2      2008.0        Racing    Nintendo     15.85     12.88      3.79   \n3      2009.0        Sports    Nintendo     15.75     11.01      3.28   \n4      1996.0  Role-Playing    Nintendo     11.27      8.89     10.22   \n...       ...           ...         ...       ...       ...       ...   \n16593  2002.0      Platform       Kemco      0.01      0.00      0.00   \n16594  2003.0       Shooter  Infogrames      0.01      0.00      0.00   \n16595  2008.0        Racing  Activision      0.00      0.00      0.00   \n16596  2010.0        Puzzle    7G//AMES      0.00      0.01      0.00   \n16597  2003.0      Platform     Wanadoo      0.01      0.00      0.00   \n\n       Other_Sales  Global_Sales  \n0             8.46         82.74  \n1             0.77         40.24  \n2             3.31         35.82  \n3             2.96         33.00  \n4             1.00         31.37  \n...            ...           ...  \n16593         0.00          0.01  \n16594         0.00          0.01  \n16595         0.00          0.01  \n16596         0.00          0.01  \n16597         0.00          0.01  \n\n[16598 rows x 11 columns]",
      "text/html": "<div>\n<style scoped>\n    .dataframe tbody tr th:only-of-type {\n        vertical-align: middle;\n    }\n\n    .dataframe tbody tr th {\n        vertical-align: top;\n    }\n\n    .dataframe thead th {\n        text-align: right;\n    }\n</style>\n<table border=\"1\" class=\"dataframe\">\n  <thead>\n    <tr style=\"text-align: right;\">\n      <th></th>\n      <th>Rank</th>\n      <th>Name</th>\n      <th>Platform</th>\n      <th>Year</th>\n      <th>Genre</th>\n      <th>Publisher</th>\n      <th>NA_Sales</th>\n      <th>EU_Sales</th>\n      <th>JP_Sales</th>\n      <th>Other_Sales</th>\n      <th>Global_Sales</th>\n    </tr>\n  </thead>\n  <tbody>\n    <tr>\n      <th>0</th>\n      <td>1</td>\n      <td>Wii Sports</td>\n      <td>Wii</td>\n      <td>2006.0</td>\n      <td>Sports</td>\n      <td>Nintendo</td>\n      <td>41.49</td>\n      <td>29.02</td>\n      <td>3.77</td>\n      <td>8.46</td>\n      <td>82.74</td>\n    </tr>\n    <tr>\n      <th>1</th>\n      <td>2</td>\n      <td>Super Mario Bros.</td>\n      <td>NES</td>\n      <td>1985.0</td>\n      <td>Platform</td>\n      <td>Nintendo</td>\n      <td>29.08</td>\n      <td>3.58</td>\n      <td>6.81</td>\n      <td>0.77</td>\n      <td>40.24</td>\n    </tr>\n    <tr>\n      <th>2</th>\n      <td>3</td>\n      <td>Mario Kart Wii</td>\n      <td>Wii</td>\n      <td>2008.0</td>\n      <td>Racing</td>\n      <td>Nintendo</td>\n      <td>15.85</td>\n      <td>12.88</td>\n      <td>3.79</td>\n      <td>3.31</td>\n      <td>35.82</td>\n    </tr>\n    <tr>\n      <th>3</th>\n      <td>4</td>\n      <td>Wii Sports Resort</td>\n      <td>Wii</td>\n      <td>2009.0</td>\n      <td>Sports</td>\n      <td>Nintendo</td>\n      <td>15.75</td>\n      <td>11.01</td>\n      <td>3.28</td>\n      <td>2.96</td>\n      <td>33.00</td>\n    </tr>\n    <tr>\n      <th>4</th>\n      <td>5</td>\n      <td>Pokemon Red/Pokemon Blue</td>\n      <td>GB</td>\n      <td>1996.0</td>\n      <td>Role-Playing</td>\n      <td>Nintendo</td>\n      <td>11.27</td>\n      <td>8.89</td>\n      <td>10.22</td>\n      <td>1.00</td>\n      <td>31.37</td>\n    </tr>\n    <tr>\n      <th>...</th>\n      <td>...</td>\n      <td>...</td>\n      <td>...</td>\n      <td>...</td>\n      <td>...</td>\n      <td>...</td>\n      <td>...</td>\n      <td>...</td>\n      <td>...</td>\n      <td>...</td>\n      <td>...</td>\n    </tr>\n    <tr>\n      <th>16593</th>\n      <td>16596</td>\n      <td>Woody Woodpecker in Crazy Castle 5</td>\n      <td>GBA</td>\n      <td>2002.0</td>\n      <td>Platform</td>\n      <td>Kemco</td>\n      <td>0.01</td>\n      <td>0.00</td>\n      <td>0.00</td>\n      <td>0.00</td>\n      <td>0.01</td>\n    </tr>\n    <tr>\n      <th>16594</th>\n      <td>16597</td>\n      <td>Men in Black II: Alien Escape</td>\n      <td>GC</td>\n      <td>2003.0</td>\n      <td>Shooter</td>\n      <td>Infogrames</td>\n      <td>0.01</td>\n      <td>0.00</td>\n      <td>0.00</td>\n      <td>0.00</td>\n      <td>0.01</td>\n    </tr>\n    <tr>\n      <th>16595</th>\n      <td>16598</td>\n      <td>SCORE International Baja 1000: The Official Game</td>\n      <td>PS2</td>\n      <td>2008.0</td>\n      <td>Racing</td>\n      <td>Activision</td>\n      <td>0.00</td>\n      <td>0.00</td>\n      <td>0.00</td>\n      <td>0.00</td>\n      <td>0.01</td>\n    </tr>\n    <tr>\n      <th>16596</th>\n      <td>16599</td>\n      <td>Know How 2</td>\n      <td>DS</td>\n      <td>2010.0</td>\n      <td>Puzzle</td>\n      <td>7G//AMES</td>\n      <td>0.00</td>\n      <td>0.01</td>\n      <td>0.00</td>\n      <td>0.00</td>\n      <td>0.01</td>\n    </tr>\n    <tr>\n      <th>16597</th>\n      <td>16600</td>\n      <td>Spirits &amp; Spells</td>\n      <td>GBA</td>\n      <td>2003.0</td>\n      <td>Platform</td>\n      <td>Wanadoo</td>\n      <td>0.01</td>\n      <td>0.00</td>\n      <td>0.00</td>\n      <td>0.00</td>\n      <td>0.01</td>\n    </tr>\n  </tbody>\n</table>\n<p>16598 rows × 11 columns</p>\n</div>"
     },
     "metadata": {},
     "execution_count": 2
    }
   ],
   "source": [
    "vg = pd.read_csv(\"data/vgsales.csv\")\n",
    "vg\n"
   ]
  },
  {
   "cell_type": "code",
   "execution_count": 3,
   "metadata": {},
   "outputs": [
    {
     "output_type": "execute_result",
     "data": {
      "text/plain": "Electronic Arts    1351\nName: Publisher, dtype: int64"
     },
     "metadata": {},
     "execution_count": 3
    }
   ],
   "source": [
    "# Which company is the most common video game publisher?\n",
    "common_pub = vg[\"Publisher\"].value_counts()\n",
    "common_pub.nlargest(1)"
   ]
  },
  {
   "cell_type": "code",
   "execution_count": 4,
   "metadata": {},
   "outputs": [
    {
     "output_type": "execute_result",
     "data": {
      "text/plain": "DS    2163\nName: Platform, dtype: int64"
     },
     "metadata": {},
     "execution_count": 4
    }
   ],
   "source": [
    "#What’s the most common platform?\n",
    "com_plat = vg[\"Platform\"].value_counts()\n",
    "com_plat.nlargest(1)"
   ]
  },
  {
   "cell_type": "code",
   "execution_count": 5,
   "metadata": {},
   "outputs": [
    {
     "output_type": "execute_result",
     "data": {
      "text/plain": "Action    3316\nName: Genre, dtype: int64"
     },
     "metadata": {},
     "execution_count": 5
    }
   ],
   "source": [
    "# What about the most common genre?\n",
    "top_genre = vg[\"Genre\"].value_counts()\n",
    "top_genre.nlargest(1)"
   ]
  },
  {
   "cell_type": "code",
   "execution_count": 9,
   "metadata": {},
   "outputs": [
    {
     "output_type": "execute_result",
     "data": {
      "text/plain": "                                            Name  Global_Sales\n0                                     Wii Sports         82.74\n1                              Super Mario Bros.         40.24\n2                                 Mario Kart Wii         35.82\n3                              Wii Sports Resort         33.00\n4                       Pokemon Red/Pokemon Blue         31.37\n5                                         Tetris         30.26\n6                          New Super Mario Bros.         30.01\n7                                       Wii Play         29.02\n8                      New Super Mario Bros. Wii         28.62\n9                                      Duck Hunt         28.31\n10                                    Nintendogs         24.76\n11                                 Mario Kart DS         23.42\n12                   Pokemon Gold/Pokemon Silver         23.10\n13                                       Wii Fit         22.72\n14                                  Wii Fit Plus         22.00\n15                            Kinect Adventures!         21.82\n16                            Grand Theft Auto V         21.40\n17                 Grand Theft Auto: San Andreas         20.81\n18                             Super Mario World         20.61\n19  Brain Age: Train Your Brain in Minutes a Day         20.22",
      "text/html": "<div>\n<style scoped>\n    .dataframe tbody tr th:only-of-type {\n        vertical-align: middle;\n    }\n\n    .dataframe tbody tr th {\n        vertical-align: top;\n    }\n\n    .dataframe thead th {\n        text-align: right;\n    }\n</style>\n<table border=\"1\" class=\"dataframe\">\n  <thead>\n    <tr style=\"text-align: right;\">\n      <th></th>\n      <th>Name</th>\n      <th>Global_Sales</th>\n    </tr>\n  </thead>\n  <tbody>\n    <tr>\n      <th>0</th>\n      <td>Wii Sports</td>\n      <td>82.74</td>\n    </tr>\n    <tr>\n      <th>1</th>\n      <td>Super Mario Bros.</td>\n      <td>40.24</td>\n    </tr>\n    <tr>\n      <th>2</th>\n      <td>Mario Kart Wii</td>\n      <td>35.82</td>\n    </tr>\n    <tr>\n      <th>3</th>\n      <td>Wii Sports Resort</td>\n      <td>33.00</td>\n    </tr>\n    <tr>\n      <th>4</th>\n      <td>Pokemon Red/Pokemon Blue</td>\n      <td>31.37</td>\n    </tr>\n    <tr>\n      <th>5</th>\n      <td>Tetris</td>\n      <td>30.26</td>\n    </tr>\n    <tr>\n      <th>6</th>\n      <td>New Super Mario Bros.</td>\n      <td>30.01</td>\n    </tr>\n    <tr>\n      <th>7</th>\n      <td>Wii Play</td>\n      <td>29.02</td>\n    </tr>\n    <tr>\n      <th>8</th>\n      <td>New Super Mario Bros. Wii</td>\n      <td>28.62</td>\n    </tr>\n    <tr>\n      <th>9</th>\n      <td>Duck Hunt</td>\n      <td>28.31</td>\n    </tr>\n    <tr>\n      <th>10</th>\n      <td>Nintendogs</td>\n      <td>24.76</td>\n    </tr>\n    <tr>\n      <th>11</th>\n      <td>Mario Kart DS</td>\n      <td>23.42</td>\n    </tr>\n    <tr>\n      <th>12</th>\n      <td>Pokemon Gold/Pokemon Silver</td>\n      <td>23.10</td>\n    </tr>\n    <tr>\n      <th>13</th>\n      <td>Wii Fit</td>\n      <td>22.72</td>\n    </tr>\n    <tr>\n      <th>14</th>\n      <td>Wii Fit Plus</td>\n      <td>22.00</td>\n    </tr>\n    <tr>\n      <th>15</th>\n      <td>Kinect Adventures!</td>\n      <td>21.82</td>\n    </tr>\n    <tr>\n      <th>16</th>\n      <td>Grand Theft Auto V</td>\n      <td>21.40</td>\n    </tr>\n    <tr>\n      <th>17</th>\n      <td>Grand Theft Auto: San Andreas</td>\n      <td>20.81</td>\n    </tr>\n    <tr>\n      <th>18</th>\n      <td>Super Mario World</td>\n      <td>20.61</td>\n    </tr>\n    <tr>\n      <th>19</th>\n      <td>Brain Age: Train Your Brain in Minutes a Day</td>\n      <td>20.22</td>\n    </tr>\n  </tbody>\n</table>\n</div>"
     },
     "metadata": {},
     "execution_count": 9
    }
   ],
   "source": [
    "# What are the top 20 highest grossing games?\n",
    "top_sellers = vg[[\"Name\", \"Global_Sales\"]].sort_values(\"Global_Sales\").nlargest(20, \"Global_Sales\")\n",
    "top_sellers"
   ]
  },
  {
   "cell_type": "code",
   "execution_count": null,
   "metadata": {},
   "outputs": [],
   "source": []
  }
 ],
 "metadata": {
  "language_info": {
   "codemirror_mode": {
    "name": "ipython",
    "version": 3
   },
   "file_extension": ".py",
   "mimetype": "text/x-python",
   "name": "python",
   "nbconvert_exporter": "python",
   "pygments_lexer": "ipython3",
   "version": "3.8.2-final"
  },
  "orig_nbformat": 2,
  "kernelspec": {
   "name": "python38264bit65ab1a12cb7944678b6287fa61d6dd6e",
   "display_name": "Python 3.8.2 64-bit"
  }
 },
 "nbformat": 4,
 "nbformat_minor": 2
}