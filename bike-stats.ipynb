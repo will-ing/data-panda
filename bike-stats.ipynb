{
 "cells": [
  {
   "cell_type": "markdown",
   "metadata": {},
   "source": [
    "# Data Analysis with Pandas\n",
    "\n",
    "## Bike Stats\n",
    "\n",
    "Author: Will Koger\n",
    "Created: 7/8/2020"
   ]
  },
  {
   "cell_type": "code",
   "execution_count": 94,
   "metadata": {},
   "outputs": [],
   "source": [
    "import pandas as pd"
   ]
  },
  {
   "cell_type": "markdown",
   "metadata": {},
   "source": [
    "1. What is the average trip duration for a borrowed bicycle?\n",
    "1. What’s the most common age of a bicycle-sharer?\n",
    "1. Given all the weather data here, find the average precipitation per month, and the median precipitation.\n",
    "1. What’s the average number of bikes at a given bike station?\n",
    "1. When a bike station is modified, is it more likely that it’ll lose bikes or gain bikes? How do you know?\n",
    "1. Come up with 3 more questions that can be answered with this data set."
   ]
  },
  {
   "cell_type": "code",
   "execution_count": 95,
   "metadata": {
    "tags": []
   },
   "outputs": [
    {
     "output_type": "stream",
     "name": "stderr",
     "text": "b'Skipping line 50794: expected 12 fields, saw 20\\n'\n"
    },
    {
     "output_type": "execute_result",
     "data": {
      "text/plain": "        trip_id         starttime          stoptime    bikeid  tripduration  \\\n0           431  10/13/2014 10:31  10/13/2014 10:48  SEA00298       985.935   \n1           432  10/13/2014 10:32  10/13/2014 10:48  SEA00195       926.375   \n2           433  10/13/2014 10:33  10/13/2014 10:48  SEA00486       883.831   \n3           434  10/13/2014 10:34  10/13/2014 10:48  SEA00333       865.937   \n4           435  10/13/2014 10:34  10/13/2014 10:49  SEA00202       923.923   \n...         ...               ...               ...       ...           ...   \n286852   255241   8/31/2016 23:34   8/31/2016 23:45  SEA00201       679.532   \n286853   255242   8/31/2016 23:48     9/1/2016 0:20  SEA00247      1965.418   \n286854   255243   8/31/2016 23:47     9/1/2016 0:20  SEA00300      1951.173   \n286855   255244   8/31/2016 23:49     9/1/2016 0:20  SEA00047      1883.299   \n286856   255245   8/31/2016 23:49     9/1/2016 0:20  SEA00442      1896.031   \n\n                             from_station_name  \\\n0                          2nd Ave & Spring St   \n1                          2nd Ave & Spring St   \n2                          2nd Ave & Spring St   \n3                          2nd Ave & Spring St   \n4                          2nd Ave & Spring St   \n...                                        ...   \n286852                 Harvard Ave & E Pine St   \n286853  Cal Anderson Park / 11th Ave & Pine St   \n286854  Cal Anderson Park / 11th Ave & Pine St   \n286855  Cal Anderson Park / 11th Ave & Pine St   \n286856  Cal Anderson Park / 11th Ave & Pine St   \n\n                                          to_station_name from_station_id  \\\n0       Occidental Park / Occidental Ave S & S Washing...          CBD-06   \n1       Occidental Park / Occidental Ave S & S Washing...          CBD-06   \n2       Occidental Park / Occidental Ave S & S Washing...          CBD-06   \n3       Occidental Park / Occidental Ave S & S Washing...          CBD-06   \n4       Occidental Park / Occidental Ave S & S Washing...          CBD-06   \n...                                                   ...             ...   \n286852                                2nd Ave & Spring St           CH-09   \n286853                              6th Ave S & S King St           CH-08   \n286854                              6th Ave S & S King St           CH-08   \n286855                              6th Ave S & S King St           CH-08   \n286856                              6th Ave S & S King St           CH-08   \n\n       to_station_id                usertype  gender  birthyear  \n0              PS-04                  Member    Male     1960.0  \n1              PS-04                  Member    Male     1970.0  \n2              PS-04                  Member  Female     1988.0  \n3              PS-04                  Member  Female     1977.0  \n4              PS-04                  Member    Male     1971.0  \n...              ...                     ...     ...        ...  \n286852        CBD-06  Short-Term Pass Holder     NaN        NaN  \n286853         ID-04  Short-Term Pass Holder     NaN        NaN  \n286854         ID-04  Short-Term Pass Holder     NaN        NaN  \n286855         ID-04  Short-Term Pass Holder     NaN        NaN  \n286856         ID-04  Short-Term Pass Holder     NaN        NaN  \n\n[286857 rows x 12 columns]",
      "text/html": "<div>\n<style scoped>\n    .dataframe tbody tr th:only-of-type {\n        vertical-align: middle;\n    }\n\n    .dataframe tbody tr th {\n        vertical-align: top;\n    }\n\n    .dataframe thead th {\n        text-align: right;\n    }\n</style>\n<table border=\"1\" class=\"dataframe\">\n  <thead>\n    <tr style=\"text-align: right;\">\n      <th></th>\n      <th>trip_id</th>\n      <th>starttime</th>\n      <th>stoptime</th>\n      <th>bikeid</th>\n      <th>tripduration</th>\n      <th>from_station_name</th>\n      <th>to_station_name</th>\n      <th>from_station_id</th>\n      <th>to_station_id</th>\n      <th>usertype</th>\n      <th>gender</th>\n      <th>birthyear</th>\n    </tr>\n  </thead>\n  <tbody>\n    <tr>\n      <th>0</th>\n      <td>431</td>\n      <td>10/13/2014 10:31</td>\n      <td>10/13/2014 10:48</td>\n      <td>SEA00298</td>\n      <td>985.935</td>\n      <td>2nd Ave &amp; Spring St</td>\n      <td>Occidental Park / Occidental Ave S &amp; S Washing...</td>\n      <td>CBD-06</td>\n      <td>PS-04</td>\n      <td>Member</td>\n      <td>Male</td>\n      <td>1960.0</td>\n    </tr>\n    <tr>\n      <th>1</th>\n      <td>432</td>\n      <td>10/13/2014 10:32</td>\n      <td>10/13/2014 10:48</td>\n      <td>SEA00195</td>\n      <td>926.375</td>\n      <td>2nd Ave &amp; Spring St</td>\n      <td>Occidental Park / Occidental Ave S &amp; S Washing...</td>\n      <td>CBD-06</td>\n      <td>PS-04</td>\n      <td>Member</td>\n      <td>Male</td>\n      <td>1970.0</td>\n    </tr>\n    <tr>\n      <th>2</th>\n      <td>433</td>\n      <td>10/13/2014 10:33</td>\n      <td>10/13/2014 10:48</td>\n      <td>SEA00486</td>\n      <td>883.831</td>\n      <td>2nd Ave &amp; Spring St</td>\n      <td>Occidental Park / Occidental Ave S &amp; S Washing...</td>\n      <td>CBD-06</td>\n      <td>PS-04</td>\n      <td>Member</td>\n      <td>Female</td>\n      <td>1988.0</td>\n    </tr>\n    <tr>\n      <th>3</th>\n      <td>434</td>\n      <td>10/13/2014 10:34</td>\n      <td>10/13/2014 10:48</td>\n      <td>SEA00333</td>\n      <td>865.937</td>\n      <td>2nd Ave &amp; Spring St</td>\n      <td>Occidental Park / Occidental Ave S &amp; S Washing...</td>\n      <td>CBD-06</td>\n      <td>PS-04</td>\n      <td>Member</td>\n      <td>Female</td>\n      <td>1977.0</td>\n    </tr>\n    <tr>\n      <th>4</th>\n      <td>435</td>\n      <td>10/13/2014 10:34</td>\n      <td>10/13/2014 10:49</td>\n      <td>SEA00202</td>\n      <td>923.923</td>\n      <td>2nd Ave &amp; Spring St</td>\n      <td>Occidental Park / Occidental Ave S &amp; S Washing...</td>\n      <td>CBD-06</td>\n      <td>PS-04</td>\n      <td>Member</td>\n      <td>Male</td>\n      <td>1971.0</td>\n    </tr>\n    <tr>\n      <th>...</th>\n      <td>...</td>\n      <td>...</td>\n      <td>...</td>\n      <td>...</td>\n      <td>...</td>\n      <td>...</td>\n      <td>...</td>\n      <td>...</td>\n      <td>...</td>\n      <td>...</td>\n      <td>...</td>\n      <td>...</td>\n    </tr>\n    <tr>\n      <th>286852</th>\n      <td>255241</td>\n      <td>8/31/2016 23:34</td>\n      <td>8/31/2016 23:45</td>\n      <td>SEA00201</td>\n      <td>679.532</td>\n      <td>Harvard Ave &amp; E Pine St</td>\n      <td>2nd Ave &amp; Spring St</td>\n      <td>CH-09</td>\n      <td>CBD-06</td>\n      <td>Short-Term Pass Holder</td>\n      <td>NaN</td>\n      <td>NaN</td>\n    </tr>\n    <tr>\n      <th>286853</th>\n      <td>255242</td>\n      <td>8/31/2016 23:48</td>\n      <td>9/1/2016 0:20</td>\n      <td>SEA00247</td>\n      <td>1965.418</td>\n      <td>Cal Anderson Park / 11th Ave &amp; Pine St</td>\n      <td>6th Ave S &amp; S King St</td>\n      <td>CH-08</td>\n      <td>ID-04</td>\n      <td>Short-Term Pass Holder</td>\n      <td>NaN</td>\n      <td>NaN</td>\n    </tr>\n    <tr>\n      <th>286854</th>\n      <td>255243</td>\n      <td>8/31/2016 23:47</td>\n      <td>9/1/2016 0:20</td>\n      <td>SEA00300</td>\n      <td>1951.173</td>\n      <td>Cal Anderson Park / 11th Ave &amp; Pine St</td>\n      <td>6th Ave S &amp; S King St</td>\n      <td>CH-08</td>\n      <td>ID-04</td>\n      <td>Short-Term Pass Holder</td>\n      <td>NaN</td>\n      <td>NaN</td>\n    </tr>\n    <tr>\n      <th>286855</th>\n      <td>255244</td>\n      <td>8/31/2016 23:49</td>\n      <td>9/1/2016 0:20</td>\n      <td>SEA00047</td>\n      <td>1883.299</td>\n      <td>Cal Anderson Park / 11th Ave &amp; Pine St</td>\n      <td>6th Ave S &amp; S King St</td>\n      <td>CH-08</td>\n      <td>ID-04</td>\n      <td>Short-Term Pass Holder</td>\n      <td>NaN</td>\n      <td>NaN</td>\n    </tr>\n    <tr>\n      <th>286856</th>\n      <td>255245</td>\n      <td>8/31/2016 23:49</td>\n      <td>9/1/2016 0:20</td>\n      <td>SEA00442</td>\n      <td>1896.031</td>\n      <td>Cal Anderson Park / 11th Ave &amp; Pine St</td>\n      <td>6th Ave S &amp; S King St</td>\n      <td>CH-08</td>\n      <td>ID-04</td>\n      <td>Short-Term Pass Holder</td>\n      <td>NaN</td>\n      <td>NaN</td>\n    </tr>\n  </tbody>\n</table>\n<p>286857 rows × 12 columns</p>\n</div>"
     },
     "metadata": {},
     "execution_count": 95
    }
   ],
   "source": [
    "trp = pd.read_csv(\"data/trip.csv\", error_bad_lines=False)\n",
    "wth = pd.read_csv(\"data/weather.csv\", error_bad_lines=False)\n",
    "stn = pd.read_csv(\"data/station.csv\", error_bad_lines=False)\n",
    "trp"
   ]
  },
  {
   "cell_type": "code",
   "execution_count": 96,
   "metadata": {},
   "outputs": [
    {
     "output_type": "execute_result",
     "data": {
      "text/plain": "1178.2956753399776"
     },
     "metadata": {},
     "execution_count": 96
    }
   ],
   "source": [
    "# What is the average trip duration for a borrowed bicycle?\n",
    "avg_trip_dur = trp[\"tripduration\"].mean()\n",
    "avg_trip_dur\n"
   ]
  },
  {
   "cell_type": "code",
   "execution_count": 97,
   "metadata": {},
   "outputs": [
    {
     "output_type": "execute_result",
     "data": {
      "text/plain": "0    33.0\ndtype: float64"
     },
     "metadata": {},
     "execution_count": 97
    }
   ],
   "source": [
    "# What’s the most common age of a bicycle-sharer?\n",
    "com_age = 2020 - trp[\"birthyear\"].mode()\n",
    "com_age"
   ]
  },
  {
   "cell_type": "code",
   "execution_count": 98,
   "metadata": {},
   "outputs": [
    {
     "output_type": "execute_result",
     "data": {
      "text/plain": "                     Precipitation_In\nPrecipitation_Month                  \n1                            0.143548\n2                            0.168421\n3                            0.156935\n4                            0.051333\n5                            0.012419\n6                            0.030500\n7                            0.012097\n8                            0.018226\n9                            0.041000\n10                           0.189000\n11                           0.187833\n12                           0.236290",
      "text/html": "<div>\n<style scoped>\n    .dataframe tbody tr th:only-of-type {\n        vertical-align: middle;\n    }\n\n    .dataframe tbody tr th {\n        vertical-align: top;\n    }\n\n    .dataframe thead th {\n        text-align: right;\n    }\n</style>\n<table border=\"1\" class=\"dataframe\">\n  <thead>\n    <tr style=\"text-align: right;\">\n      <th></th>\n      <th>Precipitation_In</th>\n    </tr>\n    <tr>\n      <th>Precipitation_Month</th>\n      <th></th>\n    </tr>\n  </thead>\n  <tbody>\n    <tr>\n      <th>1</th>\n      <td>0.143548</td>\n    </tr>\n    <tr>\n      <th>2</th>\n      <td>0.168421</td>\n    </tr>\n    <tr>\n      <th>3</th>\n      <td>0.156935</td>\n    </tr>\n    <tr>\n      <th>4</th>\n      <td>0.051333</td>\n    </tr>\n    <tr>\n      <th>5</th>\n      <td>0.012419</td>\n    </tr>\n    <tr>\n      <th>6</th>\n      <td>0.030500</td>\n    </tr>\n    <tr>\n      <th>7</th>\n      <td>0.012097</td>\n    </tr>\n    <tr>\n      <th>8</th>\n      <td>0.018226</td>\n    </tr>\n    <tr>\n      <th>9</th>\n      <td>0.041000</td>\n    </tr>\n    <tr>\n      <th>10</th>\n      <td>0.189000</td>\n    </tr>\n    <tr>\n      <th>11</th>\n      <td>0.187833</td>\n    </tr>\n    <tr>\n      <th>12</th>\n      <td>0.236290</td>\n    </tr>\n  </tbody>\n</table>\n</div>"
     },
     "metadata": {},
     "execution_count": 98
    }
   ],
   "source": [
    "# Given all the weather data here, find the average precipitation per month, and the median precipitation.\n",
    "wth[\"Precipitation_Month\"] = pd.DatetimeIndex(wth[\"Date\"]).month\n",
    "wth[[\"Precipitation_In\", \"Precipitation_Month\"]].groupby([\"Precipitation_Month\"]).mean()"
   ]
  },
  {
   "cell_type": "code",
   "execution_count": 99,
   "metadata": {},
   "outputs": [
    {
     "output_type": "execute_result",
     "data": {
      "text/plain": "            current_dockcount\nstation_id                   \nCH-08                      26\nDPD-03                     24\nWF-01                      24\nCH-02                      20\nCBD-03                     20\nFH-04                      20\nCBD-05                     20\nCBD-07                     20\nSLU-21                     20\nSLU-20                     20\nSLU-01                     20\nSLU-16                     20\nSLU-15                     20\nPS-04                      18\nPS-05                      18\nSLU-02                     18\nBT-01                      18\nSLU-04                     18\nSLU-07                     18\nEL-03                      18\nSLU-22                     18\nUD-01                      18\nUD-02                      18\nWF-03                      18\nEL-05                      18\nWF-04                      18\nDPD-01                     18\nCH-16                      18\nCH-07                      18\nCBD-04                     18\nCBD-06                     18\nCBD-13                     18\nEL-01                      16\nCH-01                      16\nBT-04                      16\nUW-11                      16\nUW-10                      16\nUW-04                      16\nUD-07                      16\nUD-04                      16\nID-04                      16\nSLU-19                     16\nBT-03                      16\nSLU-17                     16\nCH-03                      16\nCH-05                      16\nCH-06                      16\nCH-15                      16\nCH-09                      16\nUW-07                      14\nBT-05                      14\nCH-12                      14\nUW-02                      14\nUW-06                      14\nFH-01                       0\nUW-01                       0\nSLU-18                      0\nCD-01                       0",
      "text/html": "<div>\n<style scoped>\n    .dataframe tbody tr th:only-of-type {\n        vertical-align: middle;\n    }\n\n    .dataframe tbody tr th {\n        vertical-align: top;\n    }\n\n    .dataframe thead th {\n        text-align: right;\n    }\n</style>\n<table border=\"1\" class=\"dataframe\">\n  <thead>\n    <tr style=\"text-align: right;\">\n      <th></th>\n      <th>current_dockcount</th>\n    </tr>\n    <tr>\n      <th>station_id</th>\n      <th></th>\n    </tr>\n  </thead>\n  <tbody>\n    <tr>\n      <th>CH-08</th>\n      <td>26</td>\n    </tr>\n    <tr>\n      <th>DPD-03</th>\n      <td>24</td>\n    </tr>\n    <tr>\n      <th>WF-01</th>\n      <td>24</td>\n    </tr>\n    <tr>\n      <th>CH-02</th>\n      <td>20</td>\n    </tr>\n    <tr>\n      <th>CBD-03</th>\n      <td>20</td>\n    </tr>\n    <tr>\n      <th>FH-04</th>\n      <td>20</td>\n    </tr>\n    <tr>\n      <th>CBD-05</th>\n      <td>20</td>\n    </tr>\n    <tr>\n      <th>CBD-07</th>\n      <td>20</td>\n    </tr>\n    <tr>\n      <th>SLU-21</th>\n      <td>20</td>\n    </tr>\n    <tr>\n      <th>SLU-20</th>\n      <td>20</td>\n    </tr>\n    <tr>\n      <th>SLU-01</th>\n      <td>20</td>\n    </tr>\n    <tr>\n      <th>SLU-16</th>\n      <td>20</td>\n    </tr>\n    <tr>\n      <th>SLU-15</th>\n      <td>20</td>\n    </tr>\n    <tr>\n      <th>PS-04</th>\n      <td>18</td>\n    </tr>\n    <tr>\n      <th>PS-05</th>\n      <td>18</td>\n    </tr>\n    <tr>\n      <th>SLU-02</th>\n      <td>18</td>\n    </tr>\n    <tr>\n      <th>BT-01</th>\n      <td>18</td>\n    </tr>\n    <tr>\n      <th>SLU-04</th>\n      <td>18</td>\n    </tr>\n    <tr>\n      <th>SLU-07</th>\n      <td>18</td>\n    </tr>\n    <tr>\n      <th>EL-03</th>\n      <td>18</td>\n    </tr>\n    <tr>\n      <th>SLU-22</th>\n      <td>18</td>\n    </tr>\n    <tr>\n      <th>UD-01</th>\n      <td>18</td>\n    </tr>\n    <tr>\n      <th>UD-02</th>\n      <td>18</td>\n    </tr>\n    <tr>\n      <th>WF-03</th>\n      <td>18</td>\n    </tr>\n    <tr>\n      <th>EL-05</th>\n      <td>18</td>\n    </tr>\n    <tr>\n      <th>WF-04</th>\n      <td>18</td>\n    </tr>\n    <tr>\n      <th>DPD-01</th>\n      <td>18</td>\n    </tr>\n    <tr>\n      <th>CH-16</th>\n      <td>18</td>\n    </tr>\n    <tr>\n      <th>CH-07</th>\n      <td>18</td>\n    </tr>\n    <tr>\n      <th>CBD-04</th>\n      <td>18</td>\n    </tr>\n    <tr>\n      <th>CBD-06</th>\n      <td>18</td>\n    </tr>\n    <tr>\n      <th>CBD-13</th>\n      <td>18</td>\n    </tr>\n    <tr>\n      <th>EL-01</th>\n      <td>16</td>\n    </tr>\n    <tr>\n      <th>CH-01</th>\n      <td>16</td>\n    </tr>\n    <tr>\n      <th>BT-04</th>\n      <td>16</td>\n    </tr>\n    <tr>\n      <th>UW-11</th>\n      <td>16</td>\n    </tr>\n    <tr>\n      <th>UW-10</th>\n      <td>16</td>\n    </tr>\n    <tr>\n      <th>UW-04</th>\n      <td>16</td>\n    </tr>\n    <tr>\n      <th>UD-07</th>\n      <td>16</td>\n    </tr>\n    <tr>\n      <th>UD-04</th>\n      <td>16</td>\n    </tr>\n    <tr>\n      <th>ID-04</th>\n      <td>16</td>\n    </tr>\n    <tr>\n      <th>SLU-19</th>\n      <td>16</td>\n    </tr>\n    <tr>\n      <th>BT-03</th>\n      <td>16</td>\n    </tr>\n    <tr>\n      <th>SLU-17</th>\n      <td>16</td>\n    </tr>\n    <tr>\n      <th>CH-03</th>\n      <td>16</td>\n    </tr>\n    <tr>\n      <th>CH-05</th>\n      <td>16</td>\n    </tr>\n    <tr>\n      <th>CH-06</th>\n      <td>16</td>\n    </tr>\n    <tr>\n      <th>CH-15</th>\n      <td>16</td>\n    </tr>\n    <tr>\n      <th>CH-09</th>\n      <td>16</td>\n    </tr>\n    <tr>\n      <th>UW-07</th>\n      <td>14</td>\n    </tr>\n    <tr>\n      <th>BT-05</th>\n      <td>14</td>\n    </tr>\n    <tr>\n      <th>CH-12</th>\n      <td>14</td>\n    </tr>\n    <tr>\n      <th>UW-02</th>\n      <td>14</td>\n    </tr>\n    <tr>\n      <th>UW-06</th>\n      <td>14</td>\n    </tr>\n    <tr>\n      <th>FH-01</th>\n      <td>0</td>\n    </tr>\n    <tr>\n      <th>UW-01</th>\n      <td>0</td>\n    </tr>\n    <tr>\n      <th>SLU-18</th>\n      <td>0</td>\n    </tr>\n    <tr>\n      <th>CD-01</th>\n      <td>0</td>\n    </tr>\n  </tbody>\n</table>\n</div>"
     },
     "metadata": {},
     "execution_count": 99
    }
   ],
   "source": [
    "# What’s the average number of bikes at a given bike station?\n",
    "stn[[\"station_id\", \"current_dockcount\"]].groupby([\"station_id\"]).mean().sort_values(\"current_dockcount\", ascending=False)"
   ]
  },
  {
   "cell_type": "code",
   "execution_count": 122,
   "metadata": {
    "tags": []
   },
   "outputs": [
    {
     "output_type": "stream",
     "name": "stdout",
     "text": "Most likely to gain\n"
    }
   ],
   "source": [
    "# When a bike station is modified, is it more likely that it’ll lose bikes or gain bikes? How do you know?\n",
    "stn[\"diff\"] = stn[\"install_dockcount\"] - stn[\"current_dockcount\"]\n",
    "rem = stn[[\"station_id\", \"modification_date\", \"install_dockcount\", \"current_dockcount\", \"diff\"]].dropna()\n",
    "if rem[\"diff\"].sort_values().median() > 0:\n",
    "    print(\"Most likely to gain\")\n",
    "else:\n",
    "    print(\"Most likely to lose\")\n"
   ]
  },
  {
   "cell_type": "code",
   "execution_count": null,
   "metadata": {},
   "outputs": [],
   "source": []
  }
 ],
 "metadata": {
  "language_info": {
   "codemirror_mode": {
    "name": "ipython",
    "version": 3
   },
   "file_extension": ".py",
   "mimetype": "text/x-python",
   "name": "python",
   "nbconvert_exporter": "python",
   "pygments_lexer": "ipython3",
   "version": "3.8.2-final"
  },
  "orig_nbformat": 2,
  "kernelspec": {
   "name": "python38264bit65ab1a12cb7944678b6287fa61d6dd6e",
   "display_name": "Python 3.8.2 64-bit"
  }
 },
 "nbformat": 4,
 "nbformat_minor": 2
}